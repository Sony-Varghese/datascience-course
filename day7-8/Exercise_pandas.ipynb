{
 "cells": [
  {
   "cell_type": "markdown",
   "metadata": {},
   "source": [
    "## Exercise 1: Write a Pandas program to create and display a DataFrame from a specified dictionary data which has the index labels. "
   ]
  },
  {
   "cell_type": "code",
   "execution_count": 2,
   "metadata": {},
   "outputs": [],
   "source": [
    "import pandas as pd\n",
    "import numpy as np\n",
    "exam_data  = {'name': ['Anastasia', 'Dima', 'Katherine', 'James', 'Emily', 'Michael', 'Matthew', 'Laura', 'Kevin', 'Jonas'],\n",
    "        'score': [12.5, 9, 16.5, np.nan, 9, 20, 14.5, np.nan, 8, 19],\n",
    "        'attempts': [1, 3, 2, 3, 2, 3, 1, 1, 2, 1],\n",
    "        'qualify': ['yes', 'no', 'yes', 'no', 'no', 'yes', 'yes', 'no', 'no', 'yes']}"
   ]
  },
  {
   "cell_type": "markdown",
   "metadata": {},
   "source": [
    "## Answer"
   ]
  },
  {
   "cell_type": "code",
   "execution_count": 3,
   "metadata": {},
   "outputs": [
    {
     "name": "stdout",
     "output_type": "stream",
     "text": [
      "        name  score  attempts qualify\n",
      "a  Anastasia   12.5         1     yes\n",
      "b       Dima    9.0         3      no\n",
      "c  Katherine   16.5         2     yes\n",
      "d      James    NaN         3      no\n",
      "e      Emily    9.0         2      no\n",
      "f    Michael   20.0         3     yes\n",
      "g    Matthew   14.5         1     yes\n",
      "h      Laura    NaN         1      no\n",
      "i      Kevin    8.0         2      no\n",
      "j      Jonas   19.0         1     yes\n"
     ]
    }
   ],
   "source": [
    "#import pandas as pd\n",
    "#import numpy as np\n",
    "exam_data  = {'name': ['Anastasia', 'Dima', 'Katherine', 'James', 'Emily', 'Michael', 'Matthew', 'Laura', 'Kevin', 'Jonas'],\n",
    "        'score': [12.5, 9, 16.5, np.nan, 9, 20, 14.5, np.nan, 8, 19],\n",
    "        'attempts': [1, 3, 2, 3, 2, 3, 1, 1, 2, 1],\n",
    "        'qualify': ['yes', 'no', 'yes', 'no', 'no', 'yes', 'yes', 'no', 'no', 'yes']}\n",
    "label = ['a', 'b', 'c', 'd', 'e', 'f', 'g', 'h', 'i', 'j']\n",
    "df = pd.DataFrame(exam_data, index = label)\n",
    "print(df)"
   ]
  },
  {
   "cell_type": "markdown",
   "metadata": {},
   "source": [
    "## Exercise 2: Write a Pandas program to select the rows where number of attempts in the examination is less than 2 and score greater than 15.\n",
    "##### Use Data from previous problem"
   ]
  },
  {
   "cell_type": "code",
   "execution_count": null,
   "metadata": {},
   "outputs": [],
   "source": []
  },
  {
   "cell_type": "markdown",
   "metadata": {},
   "source": [
    "## Answer"
   ]
  },
  {
   "cell_type": "code",
   "execution_count": 4,
   "metadata": {},
   "outputs": [
    {
     "name": "stdout",
     "output_type": "stream",
     "text": [
      "Number of attempts in the examination is less than 2 and score greater than 15 :\n",
      "     name  score  attempts qualify\n",
      "j  Jonas   19.0         1     yes\n"
     ]
    }
   ],
   "source": [
    "attempts_score = df[(df['attempts'] < 2) & (df['score'] > 15)]\n",
    "print(\"Number of attempts in the examination is less than 2 and score greater than 15 :\\n\", attempts_score )"
   ]
  },
  {
   "cell_type": "markdown",
   "metadata": {},
   "source": [
    "## Exerise 3: Change the value in row 'd' to 11.5 \n",
    "##### Use Data from previous questions"
   ]
  },
  {
   "cell_type": "code",
   "execution_count": null,
   "metadata": {},
   "outputs": [],
   "source": []
  },
  {
   "cell_type": "markdown",
   "metadata": {},
   "source": [
    "## Answer"
   ]
  },
  {
   "cell_type": "code",
   "execution_count": 5,
   "metadata": {},
   "outputs": [
    {
     "name": "stdout",
     "output_type": "stream",
     "text": [
      "Original data frame:\n",
      "         name  score  attempts qualify\n",
      "a  Anastasia   12.5         1     yes\n",
      "b       Dima    9.0         3      no\n",
      "c  Katherine   16.5         2     yes\n",
      "d      James    NaN         3      no\n",
      "e      Emily    9.0         2      no\n",
      "f    Michael   20.0         3     yes\n",
      "g    Matthew   14.5         1     yes\n",
      "h      Laura    NaN         1      no\n",
      "i      Kevin    8.0         2      no\n",
      "j      Jonas   19.0         1     yes\n",
      "\n",
      "Change the score in row 'd' to 11.5:\n",
      "         name  score  attempts qualify\n",
      "a  Anastasia   12.5         1     yes\n",
      "b       Dima    9.0         3      no\n",
      "c  Katherine   16.5         2     yes\n",
      "d      James   11.5         3      no\n",
      "e      Emily    9.0         2      no\n",
      "f    Michael   20.0         3     yes\n",
      "g    Matthew   14.5         1     yes\n",
      "h      Laura    NaN         1      no\n",
      "i      Kevin    8.0         2      no\n",
      "j      Jonas   19.0         1     yes\n"
     ]
    }
   ],
   "source": [
    "print(\"Original data frame:\\n\", df)\n",
    "df.loc['d', 'score'] = 11.5\n",
    "print(\"\\nChange the score in row 'd' to 11.5:\\n\", df)"
   ]
  },
  {
   "cell_type": "markdown",
   "metadata": {},
   "source": [
    "## Exercise 4: Write a Pandas program to calculate the sum of the examination attempts by the students. (Question continuation of data from question 2)\n",
    "##### Use Data from previous questions"
   ]
  },
  {
   "cell_type": "markdown",
   "metadata": {},
   "source": [
    "## Answer"
   ]
  },
  {
   "cell_type": "code",
   "execution_count": 8,
   "metadata": {},
   "outputs": [
    {
     "name": "stdout",
     "output_type": "stream",
     "text": [
      "sum of exam attempts by the students: 19\n"
     ]
    }
   ],
   "source": [
    "sum_attempts = np.array(df['attempts'])\n",
    "print(\"sum of exam attempts by the students:\", sum_attempts.sum())"
   ]
  },
  {
   "cell_type": "markdown",
   "metadata": {},
   "source": [
    "## Exercise 5: Drop a list of rows from a specified DataFrame\n",
    "###### data: \n",
    "d = {'col1': [1, 4, 3, 4, 5], 'col2': [4, 5, 6, 7, 8], 'col3': [7, 8, 9, 0, 1]}"
   ]
  },
  {
   "cell_type": "markdown",
   "metadata": {},
   "source": [
    "## Answer"
   ]
  },
  {
   "cell_type": "code",
   "execution_count": 13,
   "metadata": {},
   "outputs": [
    {
     "name": "stdout",
     "output_type": "stream",
     "text": [
      "Original dataframe:\n",
      "    col1  col2  col3\n",
      "0     1     4     7\n",
      "1     4     5     8\n",
      "2     3     6     9\n",
      "3     4     7     0\n",
      "4     5     8     1\n",
      "\n",
      "Dataframe after dropping rows 1 and 4:\n",
      "    col1  col2  col3\n",
      "0     1     4     7\n",
      "2     3     6     9\n",
      "3     4     7     0\n"
     ]
    }
   ],
   "source": [
    "d = {'col1': [1, 4, 3, 4, 5], 'col2': [4, 5, 6, 7, 8], 'col3': [7, 8, 9, 0, 1]}\n",
    "df1 = pd.DataFrame(d)\n",
    "print(\"Original dataframe:\\n\", df1)\n",
    "print(\"\\nDataframe after dropping rows 1 and 4:\\n\", df1.drop([1,4]))"
   ]
  },
  {
   "cell_type": "markdown",
   "metadata": {},
   "source": [
    "## Exercise 6: Write a function that checks whether a given column is present in a DataFrame or not\n",
    "###### data: \n",
    "d = {'col1': [1, 2, 3, 4, 7], 'col2': [4, 5, 6, 9, 5], 'col3': [7, 8, 12, 1, 11]}\n",
    "\n",
    "Check if col4 and col1 is present"
   ]
  },
  {
   "cell_type": "markdown",
   "metadata": {},
   "source": [
    "## Answer"
   ]
  },
  {
   "cell_type": "code",
   "execution_count": 65,
   "metadata": {},
   "outputs": [
    {
     "name": "stdout",
     "output_type": "stream",
     "text": [
      "Col4 is not present in the DataFrame.\n",
      "Col1 is present in the DataFrame.\n",
      "Is both col1 and col4 present: False\n",
      "Is any one of col1 and col4 present: True\n"
     ]
    }
   ],
   "source": [
    "d = {'col1': [1, 2, 3, 4, 7], 'col2': [4, 5, 6, 9, 5], 'col3': [7, 8, 12, 1, 11]}\n",
    "df2 = pd.DataFrame(d)\n",
    "if 'col4' in df2.columns:\n",
    "    print(\"Col4 is present in the DataFrame.\")\n",
    "else:\n",
    "    print(\"Col4 is not present in the DataFrame.\")\n",
    "if 'col1' in df2.columns:\n",
    "    print(\"Col1 is present in the DataFrame.\")\n",
    "else:\n",
    "    print(\"Col1 is not present in the DataFrame.\")\n",
    "cols = ['col1', 'col4']\n",
    "print(\"Is both col1 and col4 present:\", df2.columns.isin(cols).all())\n",
    "print(\"Is any one of col1 and col4 present:\", df2.columns.isin(cols).any())"
   ]
  },
  {
   "cell_type": "markdown",
   "metadata": {},
   "source": [
    "## Exercise 7: Write a function that returns the column index number from column name of a given DataFrame\n",
    "\n",
    "###### data: \n",
    "d = {'col1': [1, 2, 3, 4, 7], 'col2': [4, 5, 6, 9, 5], 'col3': [7, 8, 12, 1, 11]}\n",
    "\n",
    "##### HINT: Try using a function called get_loc():\n",
    "Syntax: \n",
    "dataframe.columns.get_loc()"
   ]
  },
  {
   "cell_type": "markdown",
   "metadata": {},
   "source": [
    "## Answer"
   ]
  },
  {
   "cell_type": "code",
   "execution_count": 26,
   "metadata": {},
   "outputs": [
    {
     "name": "stdout",
     "output_type": "stream",
     "text": [
      "original dataframe:\n",
      "    col1  col2  col3\n",
      "0     1     4     7\n",
      "1     2     5     8\n",
      "2     3     6    12\n",
      "3     4     9     1\n",
      "4     7     5    11\n",
      "\n",
      "Index of col3: 2\n",
      "\n",
      "Index of col1: 0\n"
     ]
    }
   ],
   "source": [
    "d = {'col1': [1, 2, 3, 4, 7], 'col2': [4, 5, 6, 9, 5], 'col3': [7, 8, 12, 1, 11]}\n",
    "df3 = pd.DataFrame(d)\n",
    "print(\"original dataframe:\\n\", df3)\n",
    "print(\"\\nIndex of col3:\", df3.columns.get_loc('col3'))\n",
    "print(\"\\nIndex of col1:\", df3.columns.get_loc('col1'))"
   ]
  },
  {
   "cell_type": "markdown",
   "metadata": {},
   "source": [
    "## Exercise 8: Write a Pandas program to select all columns, except one given column in a DataFrame.\n",
    "###### Use same data as previous problem"
   ]
  },
  {
   "cell_type": "markdown",
   "metadata": {},
   "source": [
    "## Answer"
   ]
  },
  {
   "cell_type": "code",
   "execution_count": 32,
   "metadata": {},
   "outputs": [
    {
     "name": "stdout",
     "output_type": "stream",
     "text": [
      "original dataframe:\n",
      "    col1  col2  col3\n",
      "0     1     4     7\n",
      "1     2     5     8\n",
      "2     3     6    12\n",
      "3     4     9     1\n",
      "4     7     5    11\n",
      "\n",
      "All except col1:\n",
      "    col2  col3\n",
      "0     4     7\n",
      "1     5     8\n",
      "2     6    12\n",
      "3     9     1\n",
      "4     5    11\n",
      "\n",
      "All except col2:\n",
      "    col1  col3\n",
      "0     1     7\n",
      "1     2     8\n",
      "2     3    12\n",
      "3     4     1\n",
      "4     7    11\n"
     ]
    }
   ],
   "source": [
    "print(\"original dataframe:\\n\", df3)\n",
    "print(\"\\nAll except col1:\\n\", df3.loc[:, df3.columns != 'col1'])\n",
    "print(\"\\nAll except col2:\\n\", df3.drop('col2', axis=1))"
   ]
  },
  {
   "cell_type": "markdown",
   "metadata": {},
   "source": [
    "## Exercise 9:  Write a Pandas program to remove last n rows of a given DataFrame."
   ]
  },
  {
   "cell_type": "markdown",
   "metadata": {},
   "source": [
    "## Answer"
   ]
  },
  {
   "cell_type": "code",
   "execution_count": 38,
   "metadata": {},
   "outputs": [
    {
     "name": "stdout",
     "output_type": "stream",
     "text": [
      "original dataframe:\n",
      "    col1  col2  col3\n",
      "0     1     4     7\n",
      "1     2     5     8\n",
      "2     3     6    12\n",
      "3     4     9     1\n",
      "4     7     5    11\n",
      "\n",
      "All except last 2 rows:\n",
      "    col1  col2  col3\n",
      "0     1     4     7\n",
      "1     2     5     8\n",
      "2     3     6    12\n"
     ]
    }
   ],
   "source": [
    "print(\"original dataframe:\\n\", df3)\n",
    "print(\"\\nAll except last 2 rows:\\n\",df3.iloc[:-2])\n",
    "#print(\"\\nAll except last 2 rows:\\n\", df3.drop(df3.tail(2).index)) #Another method"
   ]
  },
  {
   "cell_type": "markdown",
   "metadata": {},
   "source": [
    "## Exercise 10: Display the movies longer than 30 minutes and shorter than 360 minutes\n",
    "use IMDB-Movie-Data.csv"
   ]
  },
  {
   "cell_type": "markdown",
   "metadata": {},
   "source": [
    "## Answer"
   ]
  },
  {
   "cell_type": "code",
   "execution_count": 44,
   "metadata": {},
   "outputs": [],
   "source": [
    "movie_df = pd.read_csv('IMDB-Movie-Data.csv')\n",
    "movie_df_new = movie_df.loc[(movie_df['Runtime (Minutes)'] > 30 ) & (movie_df['Runtime (Minutes)'] < 360 )]"
   ]
  },
  {
   "cell_type": "code",
   "execution_count": 64,
   "metadata": {},
   "outputs": [
    {
     "name": "stdout",
     "output_type": "stream",
     "text": [
      "Movies longer than 30 minutes and shorter than 360 minutes:\n",
      "                        Title  Runtime (Minutes)\n",
      "0    Guardians of the Galaxy                121\n",
      "1                 Prometheus                124\n",
      "2                      Split                117\n",
      "3                       Sing                108\n",
      "4              Suicide Squad                123\n",
      "..                       ...                ...\n",
      "995     Secret in Their Eyes                111\n",
      "996          Hostel: Part II                 94\n",
      "997   Step Up 2: The Streets                 98\n",
      "998             Search Party                 93\n",
      "999               Nine Lives                 87\n",
      "\n",
      "[1000 rows x 2 columns]\n"
     ]
    }
   ],
   "source": [
    "result = movie_df_new[['Title', 'Runtime (Minutes)']]\n",
    "print(\"Movies longer than 30 minutes and shorter than 360 minutes:\\n\", result)"
   ]
  },
  {
   "cell_type": "code",
   "execution_count": null,
   "metadata": {},
   "outputs": [],
   "source": []
  }
 ],
 "metadata": {
  "kernelspec": {
   "display_name": "Python 3",
   "language": "python",
   "name": "python3"
  },
  "language_info": {
   "codemirror_mode": {
    "name": "ipython",
    "version": 3
   },
   "file_extension": ".py",
   "mimetype": "text/x-python",
   "name": "python",
   "nbconvert_exporter": "python",
   "pygments_lexer": "ipython3",
   "version": "3.7.6"
  }
 },
 "nbformat": 4,
 "nbformat_minor": 4
}
